{
 "cells": [
  {
   "cell_type": "code",
   "execution_count": 346,
   "metadata": {},
   "outputs": [
    {
     "name": "stdout",
     "output_type": "stream",
     "text": [
      "<class 'pandas.core.frame.DataFrame'>\n",
      "RangeIndex: 891 entries, 0 to 890\n",
      "Data columns (total 12 columns):\n",
      "PassengerId    891 non-null int64\n",
      "Survived       891 non-null int64\n",
      "Pclass         891 non-null int64\n",
      "Name           891 non-null object\n",
      "Sex            891 non-null object\n",
      "Age            714 non-null float64\n",
      "SibSp          891 non-null int64\n",
      "Parch          891 non-null int64\n",
      "Ticket         891 non-null object\n",
      "Fare           891 non-null float64\n",
      "Cabin          204 non-null object\n",
      "Embarked       889 non-null object\n",
      "dtypes: float64(2), int64(5), object(5)\n",
      "memory usage: 83.6+ KB\n"
     ]
    }
   ],
   "source": [
    "import pandas as pd\n",
    "import numpy as np\n",
    "from sklearn.ensemble import RandomForestClassifier\n",
    "from sklearn.neighbors import KNeighborsClassifier\n",
    "\n",
    "train_df = pd.read_csv('train.csv') #Read training datadet in dataframe\n",
    "test_df = pd.read_csv('test.csv')   #Read testing dataset in dataframe\n",
    "\n",
    "train_df.info()                    #Get the infomation about the dataset"
   ]
  },
  {
   "cell_type": "code",
   "execution_count": 347,
   "metadata": {},
   "outputs": [
    {
     "name": "stdout",
     "output_type": "stream",
     "text": [
      "<class 'pandas.core.frame.DataFrame'>\n",
      "RangeIndex: 418 entries, 0 to 417\n",
      "Data columns (total 11 columns):\n",
      "PassengerId    418 non-null int64\n",
      "Pclass         418 non-null int64\n",
      "Name           418 non-null object\n",
      "Sex            418 non-null object\n",
      "Age            332 non-null float64\n",
      "SibSp          418 non-null int64\n",
      "Parch          418 non-null int64\n",
      "Ticket         418 non-null object\n",
      "Fare           417 non-null float64\n",
      "Cabin          91 non-null object\n",
      "Embarked       418 non-null object\n",
      "dtypes: float64(2), int64(4), object(5)\n",
      "memory usage: 36.0+ KB\n"
     ]
    }
   ],
   "source": [
    "test_df.info()"
   ]
  },
  {
   "cell_type": "code",
   "execution_count": 348,
   "metadata": {
    "collapsed": true
   },
   "outputs": [],
   "source": [
    "#Drop the columns which are not useful for analysis from both training and testing dataframes\n",
    "train_df = train_df.drop(['PassengerId','Name','Ticket','Embarked','Cabin'], axis=1)\n",
    "test_df = test_df.drop(['Name','Ticket','Embarked','Cabin'], axis=1)"
   ]
  },
  {
   "cell_type": "markdown",
   "metadata": {},
   "source": [
    "###### Question: If you have excluded any attributes from the analysis, provide an explanation why you believe they can be excluded.\n",
    "Answer: From the training dataset PassengerId, name, ticket and embarked attributes are dropped because there is no relation with 'Survived' attribute. Attribute 'Cabin' was dropped because it has many null values, out of 891 it has only 204 non-null values. "
   ]
  },
  {
   "cell_type": "code",
   "execution_count": 349,
   "metadata": {},
   "outputs": [
    {
     "data": {
      "text/html": [
       "<div>\n",
       "<style>\n",
       "    .dataframe thead tr:only-child th {\n",
       "        text-align: right;\n",
       "    }\n",
       "\n",
       "    .dataframe thead th {\n",
       "        text-align: left;\n",
       "    }\n",
       "\n",
       "    .dataframe tbody tr th {\n",
       "        vertical-align: top;\n",
       "    }\n",
       "</style>\n",
       "<table border=\"1\" class=\"dataframe\">\n",
       "  <thead>\n",
       "    <tr style=\"text-align: right;\">\n",
       "      <th></th>\n",
       "      <th>HasFamily</th>\n",
       "      <th>Survived</th>\n",
       "    </tr>\n",
       "  </thead>\n",
       "  <tbody>\n",
       "    <tr>\n",
       "      <th>0</th>\n",
       "      <td>0</td>\n",
       "      <td>0.303538</td>\n",
       "    </tr>\n",
       "    <tr>\n",
       "      <th>1</th>\n",
       "      <td>1</td>\n",
       "      <td>0.505650</td>\n",
       "    </tr>\n",
       "  </tbody>\n",
       "</table>\n",
       "</div>"
      ],
      "text/plain": [
       "   HasFamily  Survived\n",
       "0          0  0.303538\n",
       "1          1  0.505650"
      ]
     },
     "execution_count": 349,
     "metadata": {},
     "output_type": "execute_result"
    }
   ],
   "source": [
    "#Family\n",
    "#Engineer the siblings (SibSp) and parents(Parch) column to check if having family impacts the survival rate or not.\n",
    "#Creating a new column named HasFamily having value of 1 if YES and 0 if NO\n",
    "pd.options.mode.chained_assignment = None\n",
    "train_df['HasFamily'] =  train_df[\"Parch\"] + train_df[\"SibSp\"]\n",
    "test_df['HasFamily'] =  test_df[\"Parch\"] + test_df[\"SibSp\"]\n",
    "\n",
    "train_df['HasFamily'].loc[train_df['HasFamily'] > 0] = 1\n",
    "train_df['HasFamily'].loc[train_df['HasFamily'] == 0] = 0\n",
    "\n",
    "test_df['HasFamily'].loc[test_df['HasFamily'] > 0] = 1\n",
    "test_df['HasFamily'].loc[test_df['HasFamily'] == 0] = 0\n",
    "\n",
    "#Drop the siblings (SibSp) and parents(Parch) column\n",
    "train_df = train_df.drop(['SibSp','Parch'], axis=1)\n",
    "test_df = test_df.drop(['SibSp','Parch'], axis=1)\n",
    "\n",
    "#Calculating the average of survived those who has family on board or not\n",
    "#Group by on attribute 'HasFamily' and taking the mean on 'Survived'  \n",
    "Avg_Family_Survived = train_df.groupby('HasFamily', as_index=False)['Survived'].mean()\n",
    "Avg_Family_Survived"
   ]
  },
  {
   "cell_type": "markdown",
   "metadata": {},
   "source": [
    "###### Result Analysis: Person with family is more likely to survive than alone because of the higher average survival rate."
   ]
  },
  {
   "cell_type": "code",
   "execution_count": 350,
   "metadata": {},
   "outputs": [
    {
     "data": {
      "text/html": [
       "<div>\n",
       "<style>\n",
       "    .dataframe thead tr:only-child th {\n",
       "        text-align: right;\n",
       "    }\n",
       "\n",
       "    .dataframe thead th {\n",
       "        text-align: left;\n",
       "    }\n",
       "\n",
       "    .dataframe tbody tr th {\n",
       "        vertical-align: top;\n",
       "    }\n",
       "</style>\n",
       "<table border=\"1\" class=\"dataframe\">\n",
       "  <thead>\n",
       "    <tr style=\"text-align: right;\">\n",
       "      <th></th>\n",
       "      <th>Sex</th>\n",
       "      <th>Survived</th>\n",
       "    </tr>\n",
       "  </thead>\n",
       "  <tbody>\n",
       "    <tr>\n",
       "      <th>0</th>\n",
       "      <td>0</td>\n",
       "      <td>0.760000</td>\n",
       "    </tr>\n",
       "    <tr>\n",
       "      <th>1</th>\n",
       "      <td>1</td>\n",
       "      <td>0.163569</td>\n",
       "    </tr>\n",
       "    <tr>\n",
       "      <th>2</th>\n",
       "      <td>2</td>\n",
       "      <td>0.576923</td>\n",
       "    </tr>\n",
       "  </tbody>\n",
       "</table>\n",
       "</div>"
      ],
      "text/plain": [
       "   Sex  Survived\n",
       "0    0  0.760000\n",
       "1    1  0.163569\n",
       "2    2  0.576923"
      ]
     },
     "execution_count": 350,
     "metadata": {},
     "output_type": "execute_result"
    }
   ],
   "source": [
    "#Gender\n",
    "#changing the value to numeric, having value of 1 for female and 0 for male\n",
    "train_df.loc[train_df['Sex']=='male','Sex'] = 1\n",
    "train_df.loc[train_df['Sex']=='female','Sex'] = 0\n",
    "train_df.loc[train_df['Age'] < 15,'Sex'] = 2\n",
    "\n",
    "test_df.loc[test_df['Sex']=='male','Sex'] = 1\n",
    "test_df.loc[test_df['Sex']=='female','Sex'] = 0\n",
    "test_df.loc[test_df['Age'] < 15,'Sex'] = 2\n",
    "\n",
    "#Calculating the average of survived males and females \n",
    "#Group by on attribute 'Sex' and taking the mean on 'Survived'\n",
    "Avg_Sex_Survived = train_df.groupby('Sex', as_index=False)['Survived'].mean()\n",
    "Avg_Sex_Survived"
   ]
  },
  {
   "cell_type": "markdown",
   "metadata": {},
   "source": [
    "###### Result Analysis: Females and children are more likely to survive than males because of the higher average survival rate."
   ]
  },
  {
   "cell_type": "code",
   "execution_count": 351,
   "metadata": {},
   "outputs": [
    {
     "data": {
      "text/html": [
       "<div>\n",
       "<style>\n",
       "    .dataframe thead tr:only-child th {\n",
       "        text-align: right;\n",
       "    }\n",
       "\n",
       "    .dataframe thead th {\n",
       "        text-align: left;\n",
       "    }\n",
       "\n",
       "    .dataframe tbody tr th {\n",
       "        vertical-align: top;\n",
       "    }\n",
       "</style>\n",
       "<table border=\"1\" class=\"dataframe\">\n",
       "  <thead>\n",
       "    <tr style=\"text-align: right;\">\n",
       "      <th></th>\n",
       "      <th>Pclass</th>\n",
       "      <th>Survived</th>\n",
       "    </tr>\n",
       "  </thead>\n",
       "  <tbody>\n",
       "    <tr>\n",
       "      <th>0</th>\n",
       "      <td>1</td>\n",
       "      <td>0.629630</td>\n",
       "    </tr>\n",
       "    <tr>\n",
       "      <th>1</th>\n",
       "      <td>2</td>\n",
       "      <td>0.472826</td>\n",
       "    </tr>\n",
       "    <tr>\n",
       "      <th>2</th>\n",
       "      <td>3</td>\n",
       "      <td>0.242363</td>\n",
       "    </tr>\n",
       "  </tbody>\n",
       "</table>\n",
       "</div>"
      ],
      "text/plain": [
       "   Pclass  Survived\n",
       "0       1  0.629630\n",
       "1       2  0.472826\n",
       "2       3  0.242363"
      ]
     },
     "execution_count": 351,
     "metadata": {},
     "output_type": "execute_result"
    }
   ],
   "source": [
    "#Class\n",
    "#Calculating the average of survived based on the class they were traveling \n",
    "#Group by on attribute 'Pclass' and taking the mean on 'Survived'\n",
    "Avg_Class_Survived = train_df.groupby('Pclass', as_index=False)['Survived'].mean()\n",
    "Avg_Class_Survived"
   ]
  },
  {
   "cell_type": "markdown",
   "metadata": {},
   "source": [
    "###### Result Analysis: Person travelling in class-1 is more likely to survive than person in class 2 and 3 because of the higher average survival rate."
   ]
  },
  {
   "cell_type": "code",
   "execution_count": 352,
   "metadata": {},
   "outputs": [
    {
     "data": {
      "text/html": [
       "<div>\n",
       "<style>\n",
       "    .dataframe thead tr:only-child th {\n",
       "        text-align: right;\n",
       "    }\n",
       "\n",
       "    .dataframe thead th {\n",
       "        text-align: left;\n",
       "    }\n",
       "\n",
       "    .dataframe tbody tr th {\n",
       "        vertical-align: top;\n",
       "    }\n",
       "</style>\n",
       "<table border=\"1\" class=\"dataframe\">\n",
       "  <thead>\n",
       "    <tr style=\"text-align: right;\">\n",
       "      <th></th>\n",
       "      <th>Age_categories</th>\n",
       "      <th>Survived</th>\n",
       "    </tr>\n",
       "  </thead>\n",
       "  <tbody>\n",
       "    <tr>\n",
       "      <th>0</th>\n",
       "      <td>(0, 15]</td>\n",
       "      <td>0.590361</td>\n",
       "    </tr>\n",
       "    <tr>\n",
       "      <th>1</th>\n",
       "      <td>(15, 30]</td>\n",
       "      <td>0.358896</td>\n",
       "    </tr>\n",
       "    <tr>\n",
       "      <th>2</th>\n",
       "      <td>(30, 45]</td>\n",
       "      <td>0.425743</td>\n",
       "    </tr>\n",
       "    <tr>\n",
       "      <th>3</th>\n",
       "      <td>(45, 60]</td>\n",
       "      <td>0.407407</td>\n",
       "    </tr>\n",
       "    <tr>\n",
       "      <th>4</th>\n",
       "      <td>(60, 85]</td>\n",
       "      <td>0.227273</td>\n",
       "    </tr>\n",
       "  </tbody>\n",
       "</table>\n",
       "</div>"
      ],
      "text/plain": [
       "  Age_categories  Survived\n",
       "0        (0, 15]  0.590361\n",
       "1       (15, 30]  0.358896\n",
       "2       (30, 45]  0.425743\n",
       "3       (45, 60]  0.407407\n",
       "4       (60, 85]  0.227273"
      ]
     },
     "execution_count": 352,
     "metadata": {},
     "output_type": "execute_result"
    }
   ],
   "source": [
    "#Age\n",
    "#Engineer the age column and creating bins for analysing the train dataset.\n",
    "#Creating a new column named 'Age_category'\n",
    "\n",
    "train_df[\"Age\"].fillna(train_df[\"Age\"].median(), inplace=True) #All the null values in age is replaced by median\n",
    "\n",
    "bins = [0, 15, 30, 45, 60, 85]\n",
    "\n",
    "train_df['Age_categories'] = pd.cut(train_age['Age'], bins)\n",
    "\n",
    "#Calculating the average of survived based on the age_categories \n",
    "#Group by on attribute 'Age_category' and taking the mean on 'Survived'\n",
    "Avg_Age_Group_Survived = train_df.groupby('Age_categories', as_index=False)['Survived'].mean()\n",
    "Avg_Age_Group_Survived"
   ]
  },
  {
   "cell_type": "markdown",
   "metadata": {},
   "source": [
    "###### Result Analysis: Children and teenagers less or equal to 15 year of age are more likely to survive than other age groups."
   ]
  },
  {
   "cell_type": "code",
   "execution_count": 353,
   "metadata": {},
   "outputs": [
    {
     "data": {
      "text/html": [
       "<div>\n",
       "<style>\n",
       "    .dataframe thead tr:only-child th {\n",
       "        text-align: right;\n",
       "    }\n",
       "\n",
       "    .dataframe thead th {\n",
       "        text-align: left;\n",
       "    }\n",
       "\n",
       "    .dataframe tbody tr th {\n",
       "        vertical-align: top;\n",
       "    }\n",
       "</style>\n",
       "<table border=\"1\" class=\"dataframe\">\n",
       "  <thead>\n",
       "    <tr style=\"text-align: right;\">\n",
       "      <th></th>\n",
       "      <th>Fare_categories</th>\n",
       "      <th>Survived</th>\n",
       "    </tr>\n",
       "  </thead>\n",
       "  <tbody>\n",
       "    <tr>\n",
       "      <th>0</th>\n",
       "      <td>(0, 30]</td>\n",
       "      <td>0.331349</td>\n",
       "    </tr>\n",
       "    <tr>\n",
       "      <th>1</th>\n",
       "      <td>(30, 60]</td>\n",
       "      <td>0.479167</td>\n",
       "    </tr>\n",
       "    <tr>\n",
       "      <th>2</th>\n",
       "      <td>(60, 100]</td>\n",
       "      <td>0.677966</td>\n",
       "    </tr>\n",
       "    <tr>\n",
       "      <th>3</th>\n",
       "      <td>(100, 130]</td>\n",
       "      <td>0.714286</td>\n",
       "    </tr>\n",
       "    <tr>\n",
       "      <th>4</th>\n",
       "      <td>(130, 165]</td>\n",
       "      <td>0.750000</td>\n",
       "    </tr>\n",
       "  </tbody>\n",
       "</table>\n",
       "</div>"
      ],
      "text/plain": [
       "  Fare_categories  Survived\n",
       "0         (0, 30]  0.331349\n",
       "1        (30, 60]  0.479167\n",
       "2       (60, 100]  0.677966\n",
       "3      (100, 130]  0.714286\n",
       "4      (130, 165]  0.750000"
      ]
     },
     "execution_count": 353,
     "metadata": {},
     "output_type": "execute_result"
    }
   ],
   "source": [
    "#Fare\n",
    "#Engineer the fare column and creating bins for analysing the train dataset.\n",
    "#Creating a new column named 'Fare_category' having value of 1 if YES and 0 if NO\n",
    "test_df[\"Fare\"].fillna(test_df[\"Fare\"].median(), inplace=True)\n",
    "\n",
    "#convert from float to int\n",
    "train_df['Fare'] = train_df['Fare'].astype(int)\n",
    "test_df['Fare'] = test_df['Fare'].astype(int)\n",
    "\n",
    "bins = [0, 30, 60, 100, 130, 165]\n",
    "\n",
    "train_df['Fare_categories'] = pd.cut(train_age['Fare'], bins)\n",
    "\n",
    "#Calculating the average of survived based on the age_categories \n",
    "#Group by on attribute 'Fare_category' and taking the mean on 'Survived'\n",
    "Avg_Fare_Group_Survived = train_df.groupby('Fare_categories', as_index=False)['Survived'].mean()\n",
    "Avg_Fare_Group_Survived"
   ]
  },
  {
   "cell_type": "markdown",
   "metadata": {},
   "source": [
    "###### Result Analysis: Person paid more for tickets are more likely to survive."
   ]
  },
  {
   "cell_type": "code",
   "execution_count": 354,
   "metadata": {},
   "outputs": [
    {
     "data": {
      "text/html": [
       "<div>\n",
       "<style>\n",
       "    .dataframe thead tr:only-child th {\n",
       "        text-align: right;\n",
       "    }\n",
       "\n",
       "    .dataframe thead th {\n",
       "        text-align: left;\n",
       "    }\n",
       "\n",
       "    .dataframe tbody tr th {\n",
       "        vertical-align: top;\n",
       "    }\n",
       "</style>\n",
       "<table border=\"1\" class=\"dataframe\">\n",
       "  <thead>\n",
       "    <tr style=\"text-align: right;\">\n",
       "      <th></th>\n",
       "      <th>Survived</th>\n",
       "      <th>Pclass</th>\n",
       "      <th>Sex</th>\n",
       "      <th>Age</th>\n",
       "      <th>Fare</th>\n",
       "      <th>HasFamily</th>\n",
       "      <th>Age_categories</th>\n",
       "      <th>Fare_categories</th>\n",
       "    </tr>\n",
       "  </thead>\n",
       "  <tbody>\n",
       "    <tr>\n",
       "      <th>0</th>\n",
       "      <td>0</td>\n",
       "      <td>3</td>\n",
       "      <td>1</td>\n",
       "      <td>22.0</td>\n",
       "      <td>7</td>\n",
       "      <td>1</td>\n",
       "      <td>(15, 30]</td>\n",
       "      <td>(0, 30]</td>\n",
       "    </tr>\n",
       "    <tr>\n",
       "      <th>1</th>\n",
       "      <td>1</td>\n",
       "      <td>1</td>\n",
       "      <td>0</td>\n",
       "      <td>38.0</td>\n",
       "      <td>71</td>\n",
       "      <td>1</td>\n",
       "      <td>(30, 45]</td>\n",
       "      <td>(60, 100]</td>\n",
       "    </tr>\n",
       "    <tr>\n",
       "      <th>2</th>\n",
       "      <td>1</td>\n",
       "      <td>3</td>\n",
       "      <td>0</td>\n",
       "      <td>26.0</td>\n",
       "      <td>7</td>\n",
       "      <td>0</td>\n",
       "      <td>(15, 30]</td>\n",
       "      <td>(0, 30]</td>\n",
       "    </tr>\n",
       "    <tr>\n",
       "      <th>3</th>\n",
       "      <td>1</td>\n",
       "      <td>1</td>\n",
       "      <td>0</td>\n",
       "      <td>35.0</td>\n",
       "      <td>53</td>\n",
       "      <td>1</td>\n",
       "      <td>(30, 45]</td>\n",
       "      <td>(30, 60]</td>\n",
       "    </tr>\n",
       "    <tr>\n",
       "      <th>4</th>\n",
       "      <td>0</td>\n",
       "      <td>3</td>\n",
       "      <td>1</td>\n",
       "      <td>35.0</td>\n",
       "      <td>8</td>\n",
       "      <td>0</td>\n",
       "      <td>(30, 45]</td>\n",
       "      <td>(0, 30]</td>\n",
       "    </tr>\n",
       "  </tbody>\n",
       "</table>\n",
       "</div>"
      ],
      "text/plain": [
       "   Survived  Pclass Sex   Age  Fare  HasFamily Age_categories Fare_categories\n",
       "0         0       3   1  22.0     7          1       (15, 30]         (0, 30]\n",
       "1         1       1   0  38.0    71          1       (30, 45]       (60, 100]\n",
       "2         1       3   0  26.0     7          0       (15, 30]         (0, 30]\n",
       "3         1       1   0  35.0    53          1       (30, 45]        (30, 60]\n",
       "4         0       3   1  35.0     8          0       (30, 45]         (0, 30]"
      ]
     },
     "execution_count": 354,
     "metadata": {},
     "output_type": "execute_result"
    }
   ],
   "source": [
    "train_df.head()"
   ]
  },
  {
   "cell_type": "code",
   "execution_count": 355,
   "metadata": {},
   "outputs": [
    {
     "data": {
      "text/html": [
       "<div>\n",
       "<style>\n",
       "    .dataframe thead tr:only-child th {\n",
       "        text-align: right;\n",
       "    }\n",
       "\n",
       "    .dataframe thead th {\n",
       "        text-align: left;\n",
       "    }\n",
       "\n",
       "    .dataframe tbody tr th {\n",
       "        vertical-align: top;\n",
       "    }\n",
       "</style>\n",
       "<table border=\"1\" class=\"dataframe\">\n",
       "  <thead>\n",
       "    <tr style=\"text-align: right;\">\n",
       "      <th></th>\n",
       "      <th>PassengerId</th>\n",
       "      <th>Pclass</th>\n",
       "      <th>Sex</th>\n",
       "      <th>Age</th>\n",
       "      <th>Fare</th>\n",
       "      <th>HasFamily</th>\n",
       "    </tr>\n",
       "  </thead>\n",
       "  <tbody>\n",
       "    <tr>\n",
       "      <th>0</th>\n",
       "      <td>892</td>\n",
       "      <td>3</td>\n",
       "      <td>1</td>\n",
       "      <td>34.5</td>\n",
       "      <td>7</td>\n",
       "      <td>0</td>\n",
       "    </tr>\n",
       "    <tr>\n",
       "      <th>1</th>\n",
       "      <td>893</td>\n",
       "      <td>3</td>\n",
       "      <td>0</td>\n",
       "      <td>47.0</td>\n",
       "      <td>7</td>\n",
       "      <td>1</td>\n",
       "    </tr>\n",
       "    <tr>\n",
       "      <th>2</th>\n",
       "      <td>894</td>\n",
       "      <td>2</td>\n",
       "      <td>1</td>\n",
       "      <td>62.0</td>\n",
       "      <td>9</td>\n",
       "      <td>0</td>\n",
       "    </tr>\n",
       "    <tr>\n",
       "      <th>3</th>\n",
       "      <td>895</td>\n",
       "      <td>3</td>\n",
       "      <td>1</td>\n",
       "      <td>27.0</td>\n",
       "      <td>8</td>\n",
       "      <td>0</td>\n",
       "    </tr>\n",
       "    <tr>\n",
       "      <th>4</th>\n",
       "      <td>896</td>\n",
       "      <td>3</td>\n",
       "      <td>0</td>\n",
       "      <td>22.0</td>\n",
       "      <td>12</td>\n",
       "      <td>1</td>\n",
       "    </tr>\n",
       "  </tbody>\n",
       "</table>\n",
       "</div>"
      ],
      "text/plain": [
       "   PassengerId  Pclass Sex   Age  Fare  HasFamily\n",
       "0          892       3   1  34.5     7          0\n",
       "1          893       3   0  47.0     7          1\n",
       "2          894       2   1  62.0     9          0\n",
       "3          895       3   1  27.0     8          0\n",
       "4          896       3   0  22.0    12          1"
      ]
     },
     "execution_count": 355,
     "metadata": {},
     "output_type": "execute_result"
    }
   ],
   "source": [
    "test_df.head()"
   ]
  },
  {
   "cell_type": "code",
   "execution_count": 356,
   "metadata": {
    "collapsed": true
   },
   "outputs": [],
   "source": [
    "train_df = train_df.dropna()  #Drop the rows with null values in train dataset\n",
    "test_df = test_df.dropna()    #Drop the rows with null values in test dataset\n",
    "train_df = train_df.drop(['Fare_categories'], axis=1)\n",
    "train_df = train_df.drop(['Age_categories'], axis=1)\n",
    "\n",
    "\n",
    "X_train = train_df.drop('Survived', axis=1)\n",
    "Y_train = train_df['Survived']\n",
    "X_test  = test_df.drop(\"PassengerId\", axis=1).copy()\n"
   ]
  },
  {
   "cell_type": "code",
   "execution_count": 357,
   "metadata": {},
   "outputs": [
    {
     "data": {
      "text/plain": [
       "0.82148040638606679"
      ]
     },
     "execution_count": 357,
     "metadata": {},
     "output_type": "execute_result"
    }
   ],
   "source": [
    "#KNN\n",
    "#Using inbuild KNN classifier from sklearn\n",
    "knn = KNeighborsClassifier(n_neighbors = 3) #Call the KNN classifier where number of neighbors are 3\n",
    "knn.fit(X_train, Y_train)                   #Fit the model using X_train as training data and Y_train as target values\n",
    "Y_pred = knn.predict(X_test)                #Predict the class labels for the provided test data\n",
    "knn.score(X_train, Y_train)                 #Returns the mean accuracy on the given test data and labels."
   ]
  },
  {
   "cell_type": "markdown",
   "metadata": {},
   "source": [
    "### Additional explaination on analysis\n",
    "\n",
    "##### Question 1: What categories of passengers were most likely to survive the Titanic disaster?\n",
    "Answer 1: According to the analysis done on different attributes. It can be observed that: \n",
    "\n",
    "(i) Females and children are more likely to survive than males.\n",
    "\n",
    "(ii) Person with family is more likely to survive than alone because of the higher average survival rate. \n",
    "\n",
    "(iii) Person travelling in class-1 is more likely to survive than person in class 2 and 3 because of the higher average survival rate.\n",
    "\n",
    "(iv) Children and teenagers less or equal to 15 year of age are more likely to survive than other age groups.\n",
    "\n",
    "(v) Person paid more for tickets are more likely to survive.\n"
   ]
  },
  {
   "cell_type": "markdown",
   "metadata": {},
   "source": [
    "##### Question 2: What other attributes did you use for the analysis. Explain how you used them.Provide a complete list of all attributes used.\n",
    "Answer 2: Other attribute I used are 'Fare', 'Parch', SibSp and 'Pclass'. \n",
    "\n",
    "(i) Fare: Divide the values of the attribute in bins and created new attribute named 'Fare_categories'. Group by on attribute 'Fare_category' and taking the mean on 'Survived'. \n",
    "(ii) Pclass: Group by on attribute 'Pclass' and taking the mean on 'Survived'. \n",
    "(iii)Parch and SibSp: Removed these columns after creating a new column named HasFamily having value of 1 if YES and 0 if NO \n",
    "\n",
    "\n",
    "Complete List of atttribute used for analysis: 'Fare', 'Age', 'Parch','Sex', 'SibSp' and 'Pclass'\n",
    "\n",
    "\n"
   ]
  },
  {
   "cell_type": "markdown",
   "metadata": {},
   "source": [
    "###### Question 3: Did you engineer any attributes? If yes, explain the rationale and how the new attributes were used in the analysis?\n",
    "\n",
    "Answer 3: Yes, I engineered attribute 'Parch' and 'SibSp'. First adding the values of both attributes, then if it is greater than 0 that mean the person has family else not. Finally, creating a new attribute named 'Has_Family' with value as 1 if YES and 0 if NO and deleting the attribute 'Parch' and 'SibSp'."
   ]
  },
  {
   "cell_type": "markdown",
   "metadata": {},
   "source": [
    "###### Question 4: If you have excluded any attributes from the analysis, provide an explanation why you believe they can be excluded.\n",
    "\n",
    "Answer 4: Explained above, below In [288]"
   ]
  },
  {
   "cell_type": "markdown",
   "metadata": {},
   "source": [
    "###### Question 5: How did you treat missing values? Provide a detailed explanation in the comments.\n",
    "Answer 5: All the null values in age is replaced by median. Also, in the test dataset, all the null values in fare is replaced by median."
   ]
  },
  {
   "cell_type": "code",
   "execution_count": null,
   "metadata": {
    "collapsed": true
   },
   "outputs": [],
   "source": []
  }
 ],
 "metadata": {
  "kernelspec": {
   "display_name": "Python 3",
   "language": "python",
   "name": "python3"
  },
  "language_info": {
   "codemirror_mode": {
    "name": "ipython",
    "version": 3
   },
   "file_extension": ".py",
   "mimetype": "text/x-python",
   "name": "python",
   "nbconvert_exporter": "python",
   "pygments_lexer": "ipython3",
   "version": "3.6.2"
  }
 },
 "nbformat": 4,
 "nbformat_minor": 2
}

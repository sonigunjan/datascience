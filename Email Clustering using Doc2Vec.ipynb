{
  "cells": [
    {
      "metadata": {
        "_uuid": "5304a28909af8b9d3f81c106b9bb252e3a9cb01b",
        "_cell_guid": "94afa9f2-e6a0-4198-ad74-08c2009ad625",
        "collapsed": true,
        "trusted": false
      },
      "cell_type": "code",
      "source": "#Imports the libraries and read the data files\n\nimport numpy as np # linear algebra\nimport pandas as pd # data processing, CSV file I/O (e.g. pd.read_csv)\nimport re\nimport os, sys, email\nimport gensim\nfrom gensim.models import Doc2Vec\nfrom nltk.tokenize import RegexpTokenizer\nfrom nltk.corpus import stopwords\nfrom nltk.stem.porter import PorterStemmer\nimport nltk\nfrom string import punctuation\nimport timeit\nfrom sklearn.cluster import KMeans\nfrom sklearn import metrics\nimport pylab as pl\nimport matplotlib.pyplot as plt\nfrom sklearn.decomposition import PCA\nstart = timeit.default_timer()\n\nemails_df = pd.read_csv('../input/emails.csv', nrows=50000)",
      "execution_count": null,
      "outputs": []
    },
    {
      "metadata": {
        "_uuid": "cf7cc3c126ff947964d13852fd5ef88a73c9aa50",
        "_cell_guid": "7a558aa1-dd62-42e5-a843-87e81f4dc63d",
        "collapsed": true,
        "trusted": false
      },
      "cell_type": "code",
      "source": "## This code in this and next cell is taken from the from Explore Enron notebook by Zichen Wang\n## Helper functions\ndef get_text_from_email(msg):\n    '''To get the content from email objects'''\n    parts = []\n    for part in msg.walk():\n        if part.get_content_type() == 'text/plain':\n            parts.append( part.get_payload() )\n    return ''.join(parts)\n\ndef split_email_addresses(line):\n    '''To separate multiple email addresses'''\n    if line:\n        addrs = line.split(',')\n        addrs = frozenset(map(lambda x: x.strip(), addrs))\n    else:\n        addrs = None\n    return addrs",
      "execution_count": null,
      "outputs": []
    },
    {
      "metadata": {
        "_uuid": "c0c99621e8557ccc7c51cd313df9f1707400143e",
        "_cell_guid": "a5777efc-9821-4b7b-a286-0112a089d846",
        "collapsed": true,
        "trusted": false
      },
      "cell_type": "code",
      "source": "#Data Preparation\nmessages = list(map(email.message_from_string, emails_df['message']))\nemails_df.drop('message', axis=1, inplace=True)\nkeys = messages[0].keys()\nfor key in keys:\n    emails_df[key] = [doc[key] for doc in messages]\n# Parse content from emails\nemails_df['content'] = list(map(get_text_from_email, messages))\n# Split multiple email addresses\nemails_df['From'] = emails_df['From'].map(split_email_addresses)\nemails_df['To'] = emails_df['To'].map(split_email_addresses)\n\n# Extract the root of 'file' as 'user'\nemails_df['user'] = emails_df['file'].map(lambda x:x.split('/')[0])\ndel messages\n\nemails_df['Subjcontent'] = emails_df['Subject'] + \" \" + emails_df['content']\nemails_df.head(5)",
      "execution_count": null,
      "outputs": []
    },
    {
      "metadata": {
        "scrolled": true,
        "_uuid": "b66e84c4b77b92bb9bb75b61452eb02701964ba0",
        "_cell_guid": "d05a7bc3-5eaf-4ef2-8156-29b168a50183",
        "collapsed": true
      },
      "cell_type": "markdown",
      "source": "The purpose of below functions are:\n1. Tokenization \n2. Remove URLs\n3. Remove email address\n4. Remove tags\n5. Remove puntuations\n6. Remove stop words\n7. Apply Stemming"
    },
    {
      "metadata": {
        "_uuid": "77c986414cf31ae18b7b2edbf2ff70667bf3597c",
        "_cell_guid": "54a985d2-8915-439b-8161-b335d0d95d76",
        "collapsed": true,
        "trusted": false
      },
      "cell_type": "code",
      "source": "#Data cleaning\ndef email_cleaning(text):\n    email = text.lower()    \n    # clean and tokenize document string\n    email_content = email.split()    \n    word_list = []\n    for i in email_content:\n        x = 0\n        if (('http' not in i) and ('@' not in i) and ('<.*?>' not in i) and i.isalnum() and (not i in stop_words)):\n            word_list += [i]\n        \n    return word_list \n\n#Data Pre-processing\ndef preprocessing(text):    \n    # remove numbers\n    number_tokens = [re.sub(r'[\\d]', ' ', i) for i in text]\n    number_tokens = ' '.join(number_tokens).split()\n     # stem tokens\n    stemmed_tokens = [p_stemmer.stem(i) for i in number_tokens]\n    # remove empty\n    length_tokens = [i for i in stemmed_tokens if len(i) > 1]\n    return length_tokens",
      "execution_count": null,
      "outputs": []
    },
    {
      "metadata": {
        "_uuid": "826b19cb6cc40aa417f3c9bbcb1ea01a2068f90c",
        "_cell_guid": "a9cf367d-37c5-431d-8dc9-04f23dafc7a1"
      },
      "cell_type": "markdown",
      "source": "**Create a list of tagged emails. **"
    },
    {
      "metadata": {
        "_uuid": "706a65716c2685c1e1b823655041a911677651fe",
        "_cell_guid": "7aee1976-3a38-4860-a1ab-b8a671556d4d",
        "collapsed": true,
        "trusted": false
      },
      "cell_type": "code",
      "source": "LabeledSentence1 = gensim.models.doc2vec.TaggedDocument\nall_content = []\ntexts = []\nj=0\nk=0\ntokenizer = RegexpTokenizer(r'\\w+')\nstop_words = set(stopwords.words('english'))\np_stemmer = PorterStemmer()\nfor em in emails_df.Subjcontent:           \n    #Data cleaning\n    clean_content = email_cleaning(em)\n    \n    #Pre-processing\n    processed_email = preprocessing(clean_content)\n    \n    # add tokens to list\n    if processed_email:\n        all_content.append(LabeledSentence1(processed_email,[j]))\n        j+=1\n        \n    k+=1\n\nprint(\"Number of emails processed: \", k)\nprint(\"Number of non-empty emails vectors: \", j)",
      "execution_count": null,
      "outputs": []
    },
    {
      "metadata": {
        "_uuid": "b3d81a1387ecd4558dd13e5102f03456738ca4ca",
        "_cell_guid": "62d91fe8-f7ee-4323-bf4c-8821d5a8a182"
      },
      "cell_type": "markdown",
      "source": "**Printout the sample processed email**"
    },
    {
      "metadata": {
        "_uuid": "f21d24f57d578a270ffa36e58d3c2b23039c2201",
        "_cell_guid": "c49dbc2f-a5f0-498d-b2a4-654011bf38e1",
        "collapsed": true,
        "trusted": false
      },
      "cell_type": "code",
      "source": "print(all_content[278])",
      "execution_count": null,
      "outputs": []
    },
    {
      "metadata": {
        "_uuid": "9d9a8157d790f4b536393f24a4d5d2df58008062",
        "_cell_guid": "bebfaf55-e13e-421b-a06d-f335ab0d0dae"
      },
      "cell_type": "markdown",
      "source": "**Create a model using Doc2Vec and train it**"
    },
    {
      "metadata": {
        "_uuid": "2ac62f716f8ecc312be64aed409a210359371c4b",
        "_cell_guid": "db885372-2846-41f6-a5b6-721036df0d0b",
        "collapsed": true,
        "trusted": false
      },
      "cell_type": "code",
      "source": "d2v_model = Doc2Vec(all_content, size = 2000, window = 10, min_count = 500, workers=7, dm = 1, \n                alpha=0.025, min_alpha=0.001)",
      "execution_count": null,
      "outputs": []
    },
    {
      "metadata": {
        "_uuid": "ef512bbb4a7ac110cf0423600a9d0e9b575e5301",
        "_cell_guid": "27843acc-e7e4-4412-8f78-7889079dbd82",
        "collapsed": true,
        "trusted": false
      },
      "cell_type": "code",
      "source": "d2v_model.train(all_content, total_examples=d2v_model.corpus_count, epochs=10, start_alpha=0.002, end_alpha=-0.016)",
      "execution_count": null,
      "outputs": []
    },
    {
      "metadata": {
        "_uuid": "e33d1f6edaf2653e3b9fb1ed3c10254b58d5d6eb",
        "_cell_guid": "a0547ab4-8096-4024-88b5-b26ed1c1cc53"
      },
      "cell_type": "markdown",
      "source": "**Print the emails similar to email with tagged id as 1 **"
    },
    {
      "metadata": {
        "_uuid": "2d1e3fbdeb39f15b4a3dae92f0d668d4d8ce0ac4",
        "_cell_guid": "8a9c32b5-88e5-42a2-bdd6-e43a4810d4ec",
        "collapsed": true,
        "trusted": false
      },
      "cell_type": "code",
      "source": "# shows the similar docs with id = 99\nprint (d2v_model.docvecs.most_similar(1))\n#print(all_content[282])\n#print(all_content[1])",
      "execution_count": null,
      "outputs": []
    },
    {
      "metadata": {
        "_uuid": "ec06a5d6fd247ecce916b00a62a82df048790ed6",
        "_cell_guid": "7bdbfeae-34af-4d64-a3ca-80e3bc61d3af"
      },
      "cell_type": "markdown",
      "source": "**Apply K-means clustering on the model**"
    },
    {
      "metadata": {
        "_uuid": "9f7b2e0663219cc065d9b3d4e043c58b763804d0",
        "_cell_guid": "a6ccc1b4-f9ef-4fa3-82af-909792ee7a08",
        "collapsed": true,
        "trusted": false
      },
      "cell_type": "code",
      "source": "kmeans_model = KMeans(n_clusters=4, init='k-means++', max_iter=100)  \nX = kmeans_model.fit(d2v_model.docvecs.doctag_syn0)\nlabels=kmeans_model.labels_.tolist()",
      "execution_count": null,
      "outputs": []
    },
    {
      "metadata": {
        "_uuid": "ff85829e3de8ccb4d2e8d3e1ef374149da69a961",
        "_cell_guid": "8158e916-2459-4ab1-a2f5-e96b0fc7a103",
        "collapsed": true,
        "trusted": false
      },
      "cell_type": "code",
      "source": "l = kmeans_model.fit_predict(d2v_model.docvecs.doctag_syn0)\npca = PCA(n_components=2).fit(d2v_model.docvecs.doctag_syn0)\ndatapoint = pca.transform(d2v_model.docvecs.doctag_syn0)",
      "execution_count": null,
      "outputs": []
    },
    {
      "metadata": {
        "_uuid": "0e9f81b2bb6f13735146b28d82f5f2207009b38a",
        "_cell_guid": "8949913a-a875-4542-9804-2334a47dcc43"
      },
      "cell_type": "markdown",
      "source": "**Plot the clustering result**"
    },
    {
      "metadata": {
        "_uuid": "a2e85d4f196d039e1e25943a47e1b03d5e50fe70",
        "_cell_guid": "c685faad-d21c-423b-b794-eb4805abdcd9",
        "collapsed": true,
        "trusted": false
      },
      "cell_type": "code",
      "source": "plt.figure\nlabel1 = [\"#FFFF00\", \"#008000\", \"#0000FF\", \"#800080\"]\ncolor = [label1[i] for i in labels]\nplt.scatter(datapoint[:, 0], datapoint[:, 1], c=color)\n\ncentroids = kmeans_model.cluster_centers_\ncentroidpoint = pca.transform(centroids)\nplt.scatter(centroidpoint[:, 0], centroidpoint[:, 1], marker='^', s=150, c='#000000')\nplt.show()",
      "execution_count": null,
      "outputs": []
    },
    {
      "metadata": {
        "_uuid": "c78bbc971fa4a2b5b84266f7b5897026f8fb9750",
        "_cell_guid": "f340b9dd-3fc8-4f09-87c8-c8f9d2ab9cae",
        "collapsed": true,
        "trusted": false
      },
      "cell_type": "code",
      "source": "stop = timeit.default_timer()\nexecution_time = stop - start\n\nprint(execution_time) #It returns time in sec",
      "execution_count": null,
      "outputs": []
    },
    {
      "metadata": {
        "_uuid": "4c706488c8ca6474f17b90753328c9a34fd77311",
        "_cell_guid": "ede65209-c700-491f-b724-427516dbea00",
        "collapsed": true,
        "trusted": false
      },
      "cell_type": "code",
      "source": "",
      "execution_count": null,
      "outputs": []
    }
  ],
  "metadata": {
    "kernelspec": {
      "display_name": "Python 3",
      "language": "python",
      "name": "python3"
    },
    "language_info": {
      "codemirror_mode": {
        "version": 3,
        "name": "ipython"
      },
      "version": "3.6.4",
      "mimetype": "text/x-python",
      "file_extension": ".py",
      "pygments_lexer": "ipython3",
      "nbconvert_exporter": "python",
      "name": "python"
    }
  },
  "nbformat": 4,
  "nbformat_minor": 1
}